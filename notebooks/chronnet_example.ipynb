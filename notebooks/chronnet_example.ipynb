{
 "cells": [
  {
   "cell_type": "code",
   "execution_count": 59,
   "metadata": {},
   "outputs": [],
   "source": [
    "from geostructures import *\n",
    "from geostructures.collections import FeatureCollection, Track\n",
    "from datetime import datetime\n",
    "\n",
    "\n",
    "# To create a FeatureCollection, simply pass it a list of geoshapes\n",
    "fcol = FeatureCollection(\n",
    "    [\n",
    "        GeoCircle(Coordinate(-0.118092, 51.509865), 500, dt=datetime(2020, 1, 1, 9, 5)),\n",
    "        GeoEllipse(Coordinate(-0.118072, 51.502365), 2000, 400, 80, dt=datetime(2020, 1, 1, 9, 5)),\n",
    "        GeoCircle(Coordinate(-0.141092, 51.529865), 500, dt=datetime(2020, 1, 1, 9, 5)),\n",
    "        GeoRing(Coordinate(-0.116092, 51.519865), inner_radius=800, outer_radius=1000, dt=datetime(2020, 1, 1, 10, 5)),\n",
    "        GeoRing(Coordinate(-0.101092, 51.514865), inner_radius=300, outer_radius=500, angle_min=60, angle_max=190, dt=datetime(2020, 1, 2, 11, 5)),\n",
    "    ]\n",
    ")\n",
    "\n"
   ]
  },
  {
   "cell_type": "code",
   "execution_count": 60,
   "metadata": {},
   "outputs": [],
   "source": [
    "track = Track(fcol.geoshapes)"
   ]
  },
  {
   "cell_type": "code",
   "execution_count": 61,
   "metadata": {},
   "outputs": [
    {
     "data": {
      "text/plain": [
       "datetime.datetime(2020, 1, 2, 11, 10, tzinfo=datetime.timezone.utc)"
      ]
     },
     "execution_count": 61,
     "metadata": {},
     "output_type": "execute_result"
    }
   ],
   "source": [
    "track.end"
   ]
  },
  {
   "cell_type": "code",
   "execution_count": 46,
   "metadata": {},
   "outputs": [],
   "source": [
    "def time_slice_track(track: Track, hour_interval: int):\n",
    "    \"\"\"\n",
    "    Slices a Track into several tracks that are partitioned by a specified length\n",
    "    of time in hours  \n",
    "    \n",
    "    Args:\n",
    "        track: the target Track\n",
    "\n",
    "        hour_interval= the length in hours of the desired interval\n",
    "\n",
    "    Returns:\n",
    "        A list of tracks\n",
    "    \"\"\"\n",
    "    start_time = track.start\n",
    "    end_time = track.end\n",
    "    timestamps = []\n",
    "    sliced_tracks = []\n",
    "\n",
    "    # get timestamp intervals\n",
    "    date_x = start_time\n",
    "    while date_x < end_time:\n",
    "        date_x += timedelta(hours = hour_interval)\n",
    "        timestamps.append(date_x)\n",
    "    \n",
    "    # make the timestamp list inclusive\n",
    "    timestamps[-1:] = timestamps[-1:] + timedelta(minutes = 1) \n",
    "    \n",
    "    for timestamp in timestamps:\n",
    "        sliced_track = track[start_time: timestamp]\n",
    "        start_time = timestamp\n",
    "        sliced_tracks.append(sliced_track)\n",
    "    \n",
    "    return sliced_tracks"
   ]
  },
  {
   "cell_type": "code",
   "execution_count": 62,
   "metadata": {},
   "outputs": [],
   "source": [
    "test = time_slice_track(track, 1)"
   ]
  },
  {
   "cell_type": "code",
   "execution_count": 63,
   "metadata": {},
   "outputs": [
    {
     "data": {
      "text/plain": [
       "[<Track with 3 shapes from 2020-01-01T09:05:00+00:00 - 2020-01-01T09:05:00+00:00>,\n",
       " <Track with 1 shapes from 2020-01-01T10:05:00+00:00 - 2020-01-01T10:05:00+00:00>,\n",
       " <Empty Track>,\n",
       " <Empty Track>,\n",
       " <Empty Track>,\n",
       " <Empty Track>,\n",
       " <Empty Track>,\n",
       " <Empty Track>,\n",
       " <Empty Track>,\n",
       " <Empty Track>,\n",
       " <Empty Track>,\n",
       " <Empty Track>,\n",
       " <Empty Track>,\n",
       " <Empty Track>,\n",
       " <Empty Track>,\n",
       " <Empty Track>,\n",
       " <Empty Track>,\n",
       " <Empty Track>,\n",
       " <Empty Track>,\n",
       " <Empty Track>,\n",
       " <Empty Track>,\n",
       " <Empty Track>,\n",
       " <Empty Track>,\n",
       " <Empty Track>,\n",
       " <Empty Track>,\n",
       " <Empty Track>,\n",
       " <Track with 1 shapes from 2020-01-02T11:10:00+00:00 - 2020-01-02T11:10:00+00:00>]"
      ]
     },
     "execution_count": 63,
     "metadata": {},
     "output_type": "execute_result"
    }
   ],
   "source": [
    "test"
   ]
  },
  {
   "cell_type": "code",
   "execution_count": 16,
   "metadata": {},
   "outputs": [
    {
     "name": "stdout",
     "output_type": "stream",
     "text": [
      "[datetime.datetime(2016, 8, 9, 2, 24, 30, 993352), datetime.datetime(2016, 8, 9, 3, 24, 30, 993352), datetime.datetime(2016, 8, 9, 4, 24, 30, 993352), datetime.datetime(2016, 8, 9, 5, 24, 30, 993352), datetime.datetime(2016, 8, 9, 6, 24, 30, 993352), datetime.datetime(2016, 8, 9, 7, 24, 30, 993352)]\n"
     ]
    }
   ],
   "source": [
    "from datetime import datetime, timedelta\n",
    "date_a = datetime(2016, 8, 9, 1, 24, 30, 993352)\n",
    "date_b = datetime(2016, 8, 9, 7, 24, 30, 993352)\n",
    "\n",
    "delta = timedelta(hours=1)\n",
    "five_min_timestamps = []\n",
    "\n",
    "date_x = date_a\n",
    "while date_x < date_b:\n",
    "    date_x += delta\n",
    "    five_min_timestamps.append(date_x)\n",
    "\n",
    "print(five_min_timestamps)"
   ]
  }
 ],
 "metadata": {
  "kernelspec": {
   "display_name": ".venv",
   "language": "python",
   "name": "python3"
  },
  "language_info": {
   "codemirror_mode": {
    "name": "ipython",
    "version": 3
   },
   "file_extension": ".py",
   "mimetype": "text/x-python",
   "name": "python",
   "nbconvert_exporter": "python",
   "pygments_lexer": "ipython3",
   "version": "3.8.7"
  }
 },
 "nbformat": 4,
 "nbformat_minor": 2
}
