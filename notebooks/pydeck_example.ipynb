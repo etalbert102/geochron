{
 "cells": [
  {
   "cell_type": "code",
   "execution_count": 17,
   "metadata": {},
   "outputs": [],
   "source": [
    "# If you've git cloned this repo, run this cell to add `geochron` to your python path\n",
    "import sys\n",
    "sys.path.insert(0, '../')"
   ]
  },
  {
   "cell_type": "code",
   "execution_count": 18,
   "metadata": {},
   "outputs": [],
   "source": [
    "import datetime as dt\n",
    "import pydeck as pdk\n",
    "from geostructures import Coordinate, GeoPoint, GeoCircle\n",
    "from geochron.visualization.pydeck import network_arc_circle\n",
    "from geochron import convert_chronnet\n",
    "from geostructures.collections import  Track\n",
    "from geostructures.geohash import H3Hasher\n",
    "\n",
    "\n",
    "hasher = H3Hasher(resolution=10)"
   ]
  },
  {
   "cell_type": "code",
   "execution_count": 19,
   "metadata": {},
   "outputs": [],
   "source": [
    "track = Track(\n",
    "    [\n",
    "        GeoPoint(Coordinate(-0.104154, 51.511920), dt=dt.datetime(2020, 1, 1, 8, 5)),\n",
    "        GeoCircle(Coordinate(-0.096533, 51.511903)  ,100, dt=dt.datetime(2020, 1, 1, 9, 23)),\n",
    "        GeoCircle(Coordinate(-0.096533, 51.511903),1000, dt=dt.datetime(2020, 1, 6, 9, 27)),\n",
    "        GeoPoint(Coordinate(-0.083765, 51.514423), dt=dt.datetime(2020, 1, 1, 9, 44)),\n",
    "        GeoPoint(Coordinate(-0.087478, 51.508595), dt=dt.datetime(2020, 1, 1, 10, 5)),\n",
    "        GeoPoint(Coordinate(-0.087478, 51.508595), dt=dt.datetime(2020, 1, 1, 11, 7)),\n",
    "    ]\n",
    ")"
   ]
  },
  {
   "cell_type": "code",
   "execution_count": 20,
   "metadata": {},
   "outputs": [],
   "source": [
    "chronnet_output = convert_chronnet(fcol=track,\n",
    "time_delta= dt.timedelta(hours=1), hash_func= hasher.hash_collection, self_loops = True, mode = \"directed\")"
   ]
  },
  {
   "cell_type": "code",
   "execution_count": 32,
   "metadata": {},
   "outputs": [],
   "source": [
    "data = network_arc_circle(chronnet_output)"
   ]
  },
  {
   "cell_type": "code",
   "execution_count": 35,
   "metadata": {},
   "outputs": [],
   "source": [
    "\n",
    "layer = pdk.Layer(\n",
    "    \"ArcLayer\",\n",
    "    data,\n",
    "    pickable=True,\n",
    "    get_source_position=[\"start_lng\", \"start_lat\"],\n",
    "    get_target_position=[\"end_lng\", \"end_lat\"],\n",
    "    get_source_color=[255, 0, 0],\n",
    "    get_target_color=[0, 255, 0],\n",
    "    getWidth='width',\n",
    "    auto_highlight=True\n",
    ")\n",
    "# Set the viewport location\n",
    "view_state = pdk.ViewState(latitude=51.511920, longitude=-0.104154, zoom=14, bearing=0, pitch=0) \n",
    "\n",
    "# Render\n",
    "r = pdk.Deck(\n",
    "    layers=[layer],\n",
    "    initial_view_state=view_state,\n",
    "    tooltip={\"text\": \"{origin} to {destination}\"},\n",
    ")\n",
    "r.picking_radius = 10\n",
    "r"
   ]
  },
  {
   "cell_type": "code",
   "execution_count": null,
   "metadata": {},
   "outputs": [],
   "source": []
  }
 ],
 "metadata": {
  "kernelspec": {
   "display_name": ".venv",
   "language": "python",
   "name": "python3"
  },
  "language_info": {
   "codemirror_mode": {
    "name": "ipython",
    "version": 3
   },
   "file_extension": ".py",
   "mimetype": "text/x-python",
   "name": "python",
   "nbconvert_exporter": "python",
   "pygments_lexer": "ipython3",
   "version": "3.8.7"
  }
 },
 "nbformat": 4,
 "nbformat_minor": 2
}
